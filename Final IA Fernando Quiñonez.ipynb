{
 "cells": [
  {
   "cell_type": "markdown",
   "id": "c50f8851",
   "metadata": {},
   "source": [
    "# Fernando Enrique Quiñonez Garcia\n",
    "# Examen final \n",
    "## Dataset Titanic"
   ]
  },
  {
   "cell_type": "code",
   "execution_count": 1,
   "id": "f895b4c3",
   "metadata": {},
   "outputs": [],
   "source": [
    "import pandas as pd\n",
    "import numpy as np\n",
    "import seaborn as sns\n",
    "import matplotlib.pyplot as plt\n",
    "from sklearn.model_selection import train_test_split\n",
    "from pandas.plotting import parallel_coordinates\n",
    "from sklearn.tree import DecisionTreeClassifier, plot_tree\n",
    "from sklearn import metrics\n"
   ]
  },
  {
   "cell_type": "code",
   "execution_count": 2,
   "id": "7786492a",
   "metadata": {},
   "outputs": [],
   "source": [
    "# DataFrame llamado titanic que contenga las columnas survived, sex, age, fare, class, embark_town y alone.\n",
    "data = sns.load_dataset('titanic')\n",
    "data.drop('pclass', inplace=True, axis=1)\n",
    "data.drop('sibsp', inplace=True, axis=1)\n",
    "data.drop('parch', inplace=True, axis=1)\n",
    "data.drop('embarked', inplace=True, axis=1)\n",
    "data.drop('who', inplace=True, axis=1)\n",
    "data.drop('deck', inplace=True, axis=1)\n",
    "data.drop('adult_male', inplace=True, axis=1)\n",
    "data.drop('alive', inplace=True, axis=1)\n",
    "data['age'] = data['age'].apply(lambda x: pd.to_numeric(x, errors='coerce'))"
   ]
  },
  {
   "cell_type": "code",
   "execution_count": 3,
   "id": "0c3e106f",
   "metadata": {},
   "outputs": [
    {
     "data": {
      "text/html": [
       "<div>\n",
       "<style scoped>\n",
       "    .dataframe tbody tr th:only-of-type {\n",
       "        vertical-align: middle;\n",
       "    }\n",
       "\n",
       "    .dataframe tbody tr th {\n",
       "        vertical-align: top;\n",
       "    }\n",
       "\n",
       "    .dataframe thead th {\n",
       "        text-align: right;\n",
       "    }\n",
       "</style>\n",
       "<table border=\"1\" class=\"dataframe\">\n",
       "  <thead>\n",
       "    <tr style=\"text-align: right;\">\n",
       "      <th></th>\n",
       "      <th>survived</th>\n",
       "      <th>sex</th>\n",
       "      <th>age</th>\n",
       "      <th>fare</th>\n",
       "      <th>class</th>\n",
       "      <th>embark_town</th>\n",
       "      <th>alone</th>\n",
       "    </tr>\n",
       "  </thead>\n",
       "  <tbody>\n",
       "    <tr>\n",
       "      <th>0</th>\n",
       "      <td>0</td>\n",
       "      <td>male</td>\n",
       "      <td>22.000000</td>\n",
       "      <td>7.2500</td>\n",
       "      <td>Third</td>\n",
       "      <td>Southampton</td>\n",
       "      <td>False</td>\n",
       "    </tr>\n",
       "    <tr>\n",
       "      <th>1</th>\n",
       "      <td>1</td>\n",
       "      <td>female</td>\n",
       "      <td>38.000000</td>\n",
       "      <td>71.2833</td>\n",
       "      <td>First</td>\n",
       "      <td>Cherbourg</td>\n",
       "      <td>False</td>\n",
       "    </tr>\n",
       "    <tr>\n",
       "      <th>2</th>\n",
       "      <td>1</td>\n",
       "      <td>female</td>\n",
       "      <td>26.000000</td>\n",
       "      <td>7.9250</td>\n",
       "      <td>Third</td>\n",
       "      <td>Southampton</td>\n",
       "      <td>True</td>\n",
       "    </tr>\n",
       "    <tr>\n",
       "      <th>3</th>\n",
       "      <td>1</td>\n",
       "      <td>female</td>\n",
       "      <td>35.000000</td>\n",
       "      <td>53.1000</td>\n",
       "      <td>First</td>\n",
       "      <td>Southampton</td>\n",
       "      <td>False</td>\n",
       "    </tr>\n",
       "    <tr>\n",
       "      <th>4</th>\n",
       "      <td>0</td>\n",
       "      <td>male</td>\n",
       "      <td>35.000000</td>\n",
       "      <td>8.0500</td>\n",
       "      <td>Third</td>\n",
       "      <td>Southampton</td>\n",
       "      <td>True</td>\n",
       "    </tr>\n",
       "    <tr>\n",
       "      <th>5</th>\n",
       "      <td>0</td>\n",
       "      <td>male</td>\n",
       "      <td>29.699118</td>\n",
       "      <td>8.4583</td>\n",
       "      <td>Third</td>\n",
       "      <td>Queenstown</td>\n",
       "      <td>True</td>\n",
       "    </tr>\n",
       "    <tr>\n",
       "      <th>6</th>\n",
       "      <td>0</td>\n",
       "      <td>male</td>\n",
       "      <td>54.000000</td>\n",
       "      <td>51.8625</td>\n",
       "      <td>First</td>\n",
       "      <td>Southampton</td>\n",
       "      <td>True</td>\n",
       "    </tr>\n",
       "    <tr>\n",
       "      <th>7</th>\n",
       "      <td>0</td>\n",
       "      <td>male</td>\n",
       "      <td>2.000000</td>\n",
       "      <td>21.0750</td>\n",
       "      <td>Third</td>\n",
       "      <td>Southampton</td>\n",
       "      <td>False</td>\n",
       "    </tr>\n",
       "    <tr>\n",
       "      <th>8</th>\n",
       "      <td>1</td>\n",
       "      <td>female</td>\n",
       "      <td>27.000000</td>\n",
       "      <td>11.1333</td>\n",
       "      <td>Third</td>\n",
       "      <td>Southampton</td>\n",
       "      <td>False</td>\n",
       "    </tr>\n",
       "    <tr>\n",
       "      <th>9</th>\n",
       "      <td>1</td>\n",
       "      <td>female</td>\n",
       "      <td>14.000000</td>\n",
       "      <td>30.0708</td>\n",
       "      <td>Second</td>\n",
       "      <td>Cherbourg</td>\n",
       "      <td>False</td>\n",
       "    </tr>\n",
       "  </tbody>\n",
       "</table>\n",
       "</div>"
      ],
      "text/plain": [
       "   survived     sex        age     fare   class  embark_town  alone\n",
       "0         0    male  22.000000   7.2500   Third  Southampton  False\n",
       "1         1  female  38.000000  71.2833   First    Cherbourg  False\n",
       "2         1  female  26.000000   7.9250   Third  Southampton   True\n",
       "3         1  female  35.000000  53.1000   First  Southampton  False\n",
       "4         0    male  35.000000   8.0500   Third  Southampton   True\n",
       "5         0    male  29.699118   8.4583   Third   Queenstown   True\n",
       "6         0    male  54.000000  51.8625   First  Southampton   True\n",
       "7         0    male   2.000000  21.0750   Third  Southampton  False\n",
       "8         1  female  27.000000  11.1333   Third  Southampton  False\n",
       "9         1  female  14.000000  30.0708  Second    Cherbourg  False"
      ]
     },
     "execution_count": 3,
     "metadata": {},
     "output_type": "execute_result"
    }
   ],
   "source": [
    "#Sustituya los valores nulos de la columna edad (age) por el promedio de edad de los valores existentes en el mismo\n",
    "#DataFrame y visualice las primeras 10 filas\n",
    "promedioAge = data[\"age\"].mean()\n",
    "promedioAge\n",
    "data['age'] = data['age'].fillna(promedioAge)\n",
    "data.head(10)"
   ]
  },
  {
   "cell_type": "code",
   "execution_count": 4,
   "id": "1b7f6275",
   "metadata": {},
   "outputs": [
    {
     "name": "stdout",
     "output_type": "stream",
     "text": [
      "Analisis descriptico de edad \n",
      "count    891.000000\n",
      "mean      29.699118\n",
      "std       13.002015\n",
      "min        0.420000\n",
      "25%       22.000000\n",
      "50%       29.699118\n",
      "75%       35.000000\n",
      "max       80.000000\n",
      "Name: age, dtype: float64\n",
      "Analisis descriptivo de tarifa \n",
      "count    891.000000\n",
      "mean      32.204208\n",
      "std       49.693429\n",
      "min        0.000000\n",
      "25%        7.910400\n",
      "50%       14.454200\n",
      "75%       31.000000\n",
      "max      512.329200\n",
      "Name: fare, dtype: float64\n"
     ]
    }
   ],
   "source": [
    "# Muestre el análisis descriptivo de las columna edad (age) y tarifa (fare).\n",
    "print('Analisis descriptico de edad ')\n",
    "print(data['age'].describe())\n",
    "print('Analisis descriptivo de tarifa ')\n",
    "print(data['fare'].describe())"
   ]
  },
  {
   "cell_type": "code",
   "execution_count": 5,
   "id": "ca3b1afc",
   "metadata": {},
   "outputs": [
    {
     "data": {
      "text/plain": [
       "Text(0.5, 0, 'Edad')"
      ]
     },
     "execution_count": 5,
     "metadata": {},
     "output_type": "execute_result"
    },
    {
     "data": {
      "image/png": "[encoded data removed]",
      "text/plain": [
       "<Figure size 432x288 with 1 Axes>"
      ]
     },
     "metadata": {
      "needs_background": "light"
     },
     "output_type": "display_data"
    }
   ],
   "source": [
    "# Realice un histograma para la variable edad y otro para la variable tarifa.\n",
    "histogramaAge = data['age'].hist()\n",
    "histogramaAge.set_ylabel(\"Persona\")\n",
    "histogramaAge.set_xlabel(\"Edad\")"
   ]
  },
  {
   "cell_type": "code",
   "execution_count": 6,
   "id": "705a6a65",
   "metadata": {},
   "outputs": [
    {
     "data": {
      "text/plain": [
       "Text(0, 0.5, 'Persona')"
      ]
     },
     "execution_count": 6,
     "metadata": {},
     "output_type": "execute_result"
    },
    {
     "data": {
      "image/png": "[encoded data removed]",
      "text/plain": [
       "<Figure size 432x288 with 1 Axes>"
      ]
     },
     "metadata": {
      "needs_background": "light"
     },
     "output_type": "display_data"
    }
   ],
   "source": [
    "histogramaFare = data['fare'].hist()\n",
    "histogramaFare.set_xlabel(\"Tarifa\")\n",
    "histogramaFare.set_ylabel(\"Persona\")"
   ]
  },
  {
   "cell_type": "code",
   "execution_count": 7,
   "id": "33365e8f",
   "metadata": {},
   "outputs": [
    {
     "data": {
      "text/html": [
       "<div>\n",
       "<style scoped>\n",
       "    .dataframe tbody tr th:only-of-type {\n",
       "        vertical-align: middle;\n",
       "    }\n",
       "\n",
       "    .dataframe tbody tr th {\n",
       "        vertical-align: top;\n",
       "    }\n",
       "\n",
       "    .dataframe thead th {\n",
       "        text-align: right;\n",
       "    }\n",
       "</style>\n",
       "<table border=\"1\" class=\"dataframe\">\n",
       "  <thead>\n",
       "    <tr style=\"text-align: right;\">\n",
       "      <th></th>\n",
       "      <th>survived</th>\n",
       "      <th>sex</th>\n",
       "      <th>age</th>\n",
       "      <th>fare</th>\n",
       "      <th>class</th>\n",
       "      <th>embark_town</th>\n",
       "      <th>alone</th>\n",
       "    </tr>\n",
       "  </thead>\n",
       "  <tbody>\n",
       "    <tr>\n",
       "      <th>0</th>\n",
       "      <td>0</td>\n",
       "      <td>1</td>\n",
       "      <td>22.000000</td>\n",
       "      <td>7.2500</td>\n",
       "      <td>2</td>\n",
       "      <td>2</td>\n",
       "      <td>0</td>\n",
       "    </tr>\n",
       "    <tr>\n",
       "      <th>1</th>\n",
       "      <td>1</td>\n",
       "      <td>0</td>\n",
       "      <td>38.000000</td>\n",
       "      <td>71.2833</td>\n",
       "      <td>0</td>\n",
       "      <td>0</td>\n",
       "      <td>0</td>\n",
       "    </tr>\n",
       "    <tr>\n",
       "      <th>2</th>\n",
       "      <td>1</td>\n",
       "      <td>0</td>\n",
       "      <td>26.000000</td>\n",
       "      <td>7.9250</td>\n",
       "      <td>2</td>\n",
       "      <td>2</td>\n",
       "      <td>1</td>\n",
       "    </tr>\n",
       "    <tr>\n",
       "      <th>3</th>\n",
       "      <td>1</td>\n",
       "      <td>0</td>\n",
       "      <td>35.000000</td>\n",
       "      <td>53.1000</td>\n",
       "      <td>0</td>\n",
       "      <td>2</td>\n",
       "      <td>0</td>\n",
       "    </tr>\n",
       "    <tr>\n",
       "      <th>4</th>\n",
       "      <td>0</td>\n",
       "      <td>1</td>\n",
       "      <td>35.000000</td>\n",
       "      <td>8.0500</td>\n",
       "      <td>2</td>\n",
       "      <td>2</td>\n",
       "      <td>1</td>\n",
       "    </tr>\n",
       "    <tr>\n",
       "      <th>5</th>\n",
       "      <td>0</td>\n",
       "      <td>1</td>\n",
       "      <td>29.699118</td>\n",
       "      <td>8.4583</td>\n",
       "      <td>2</td>\n",
       "      <td>1</td>\n",
       "      <td>1</td>\n",
       "    </tr>\n",
       "    <tr>\n",
       "      <th>6</th>\n",
       "      <td>0</td>\n",
       "      <td>1</td>\n",
       "      <td>54.000000</td>\n",
       "      <td>51.8625</td>\n",
       "      <td>0</td>\n",
       "      <td>2</td>\n",
       "      <td>1</td>\n",
       "    </tr>\n",
       "    <tr>\n",
       "      <th>7</th>\n",
       "      <td>0</td>\n",
       "      <td>1</td>\n",
       "      <td>2.000000</td>\n",
       "      <td>21.0750</td>\n",
       "      <td>2</td>\n",
       "      <td>2</td>\n",
       "      <td>0</td>\n",
       "    </tr>\n",
       "    <tr>\n",
       "      <th>8</th>\n",
       "      <td>1</td>\n",
       "      <td>0</td>\n",
       "      <td>27.000000</td>\n",
       "      <td>11.1333</td>\n",
       "      <td>2</td>\n",
       "      <td>2</td>\n",
       "      <td>0</td>\n",
       "    </tr>\n",
       "    <tr>\n",
       "      <th>9</th>\n",
       "      <td>1</td>\n",
       "      <td>0</td>\n",
       "      <td>14.000000</td>\n",
       "      <td>30.0708</td>\n",
       "      <td>1</td>\n",
       "      <td>0</td>\n",
       "      <td>0</td>\n",
       "    </tr>\n",
       "  </tbody>\n",
       "</table>\n",
       "</div>"
      ],
      "text/plain": [
       "   survived  sex        age     fare  class  embark_town  alone\n",
       "0         0    1  22.000000   7.2500      2            2      0\n",
       "1         1    0  38.000000  71.2833      0            0      0\n",
       "2         1    0  26.000000   7.9250      2            2      1\n",
       "3         1    0  35.000000  53.1000      0            2      0\n",
       "4         0    1  35.000000   8.0500      2            2      1\n",
       "5         0    1  29.699118   8.4583      2            1      1\n",
       "6         0    1  54.000000  51.8625      0            2      1\n",
       "7         0    1   2.000000  21.0750      2            2      0\n",
       "8         1    0  27.000000  11.1333      2            2      0\n",
       "9         1    0  14.000000  30.0708      1            0      0"
      ]
     },
     "execution_count": 7,
     "metadata": {},
     "output_type": "execute_result"
    }
   ],
   "source": [
    "# Codifique las variables categóricas sex, class, embark_town y alone, luego visualice las primeras 10 filas.\n",
    "data[\"class\"] = data[\"class\"].astype('category')\n",
    "data[\"class\"] = data[\"class\"].cat.codes\n",
    "\n",
    "data[\"sex\"] = data[\"sex\"].astype('category')\n",
    "data[\"sex\"] = data[\"sex\"].cat.codes\n",
    "\n",
    "data[\"embark_town\"] = data[\"embark_town\"].astype('category')\n",
    "data[\"embark_town\"] = data[\"embark_town\"].cat.codes\n",
    "\n",
    "data[\"alone\"] = data[\"alone\"].astype('category')\n",
    "data[\"alone\"] = data[\"alone\"].cat.codes\n",
    "data.head(10)"
   ]
  },
  {
   "cell_type": "code",
   "execution_count": 8,
   "id": "45c36ae9",
   "metadata": {},
   "outputs": [
    {
     "data": {
      "text/plain": [
       "<AxesSubplot:>"
      ]
     },
     "execution_count": 8,
     "metadata": {},
     "output_type": "execute_result"
    },
    {
     "data": {
      "image/png": "[encoded data removed]",
      "text/plain": [
       "<Figure size 432x288 with 1 Axes>"
      ]
     },
     "metadata": {
      "needs_background": "light"
     },
     "output_type": "display_data"
    }
   ],
   "source": [
    "data\n",
    "data['age'].hist(bins = 5)"
   ]
  },
  {
   "cell_type": "code",
   "execution_count": 9,
   "id": "a5b1c44e",
   "metadata": {},
   "outputs": [
    {
     "data": {
      "image/png": "[encoded data removed]",
      "text/plain": [
       "<Figure size 432x288 with 4 Axes>"
      ]
     },
     "metadata": {
      "needs_background": "light"
     },
     "output_type": "display_data"
    }
   ],
   "source": [
    "# Elabore un histograma de 5 intervalos que muestre la distribución de  sobrevivientes según la edad (age, survived)\n",
    "# utilizando la variable survived para agrupar los datos. Agregue una interpretación de los resultados.\n",
    "pd.crosstab(index=data['age'],columns=data['class'], margins=True).hist(bins=5);"
   ]
  },
  {
   "cell_type": "code",
   "execution_count": 10,
   "id": "e15cc8f5",
   "metadata": {},
   "outputs": [
    {
     "data": {
      "text/html": [
       "<div>\n",
       "<style scoped>\n",
       "    .dataframe tbody tr th:only-of-type {\n",
       "        vertical-align: middle;\n",
       "    }\n",
       "\n",
       "    .dataframe tbody tr th {\n",
       "        vertical-align: top;\n",
       "    }\n",
       "\n",
       "    .dataframe thead th {\n",
       "        text-align: right;\n",
       "    }\n",
       "</style>\n",
       "<table border=\"1\" class=\"dataframe\">\n",
       "  <thead>\n",
       "    <tr style=\"text-align: right;\">\n",
       "      <th></th>\n",
       "      <th>age</th>\n",
       "      <th>sex</th>\n",
       "      <th>fare</th>\n",
       "      <th>class</th>\n",
       "      <th>embark_town</th>\n",
       "      <th>alone</th>\n",
       "    </tr>\n",
       "  </thead>\n",
       "  <tbody>\n",
       "    <tr>\n",
       "      <th>106</th>\n",
       "      <td>21.000000</td>\n",
       "      <td>0</td>\n",
       "      <td>7.6500</td>\n",
       "      <td>2</td>\n",
       "      <td>2</td>\n",
       "      <td>1</td>\n",
       "    </tr>\n",
       "    <tr>\n",
       "      <th>72</th>\n",
       "      <td>21.000000</td>\n",
       "      <td>1</td>\n",
       "      <td>73.5000</td>\n",
       "      <td>1</td>\n",
       "      <td>2</td>\n",
       "      <td>1</td>\n",
       "    </tr>\n",
       "    <tr>\n",
       "      <th>134</th>\n",
       "      <td>25.000000</td>\n",
       "      <td>1</td>\n",
       "      <td>13.0000</td>\n",
       "      <td>1</td>\n",
       "      <td>2</td>\n",
       "      <td>1</td>\n",
       "    </tr>\n",
       "    <tr>\n",
       "      <th>346</th>\n",
       "      <td>40.000000</td>\n",
       "      <td>0</td>\n",
       "      <td>13.0000</td>\n",
       "      <td>1</td>\n",
       "      <td>2</td>\n",
       "      <td>1</td>\n",
       "    </tr>\n",
       "    <tr>\n",
       "      <th>443</th>\n",
       "      <td>28.000000</td>\n",
       "      <td>0</td>\n",
       "      <td>13.0000</td>\n",
       "      <td>1</td>\n",
       "      <td>2</td>\n",
       "      <td>1</td>\n",
       "    </tr>\n",
       "    <tr>\n",
       "      <th>142</th>\n",
       "      <td>24.000000</td>\n",
       "      <td>0</td>\n",
       "      <td>15.8500</td>\n",
       "      <td>2</td>\n",
       "      <td>2</td>\n",
       "      <td>0</td>\n",
       "    </tr>\n",
       "    <tr>\n",
       "      <th>64</th>\n",
       "      <td>29.699118</td>\n",
       "      <td>1</td>\n",
       "      <td>27.7208</td>\n",
       "      <td>0</td>\n",
       "      <td>0</td>\n",
       "      <td>1</td>\n",
       "    </tr>\n",
       "    <tr>\n",
       "      <th>139</th>\n",
       "      <td>24.000000</td>\n",
       "      <td>1</td>\n",
       "      <td>79.2000</td>\n",
       "      <td>0</td>\n",
       "      <td>0</td>\n",
       "      <td>1</td>\n",
       "    </tr>\n",
       "    <tr>\n",
       "      <th>858</th>\n",
       "      <td>24.000000</td>\n",
       "      <td>0</td>\n",
       "      <td>19.2583</td>\n",
       "      <td>2</td>\n",
       "      <td>0</td>\n",
       "      <td>0</td>\n",
       "    </tr>\n",
       "    <tr>\n",
       "      <th>271</th>\n",
       "      <td>25.000000</td>\n",
       "      <td>1</td>\n",
       "      <td>0.0000</td>\n",
       "      <td>2</td>\n",
       "      <td>2</td>\n",
       "      <td>1</td>\n",
       "    </tr>\n",
       "  </tbody>\n",
       "</table>\n",
       "</div>"
      ],
      "text/plain": [
       "           age  sex     fare  class  embark_town  alone\n",
       "106  21.000000    0   7.6500      2            2      1\n",
       "72   21.000000    1  73.5000      1            2      1\n",
       "134  25.000000    1  13.0000      1            2      1\n",
       "346  40.000000    0  13.0000      1            2      1\n",
       "443  28.000000    0  13.0000      1            2      1\n",
       "142  24.000000    0  15.8500      2            2      0\n",
       "64   29.699118    1  27.7208      0            0      1\n",
       "139  24.000000    1  79.2000      0            0      1\n",
       "858  24.000000    0  19.2583      2            0      0\n",
       "271  25.000000    1   0.0000      2            2      1"
      ]
     },
     "execution_count": 10,
     "metadata": {},
     "output_type": "execute_result"
    }
   ],
   "source": [
    "# Genere los grupos para entrenamiento (train) y pruebas (test) a partir del dataset estableciendo un 30% para \n",
    "# el tamaño del grupo de entrenamiento estratificando por medio de la variable survived y un random_state = 29.\n",
    "train, test = train_test_split(data, test_size = 0.7, stratify = data['survived'], random_state = 29)\n",
    "fn = ['age', 'sex', 'fare', 'class', 'embark_town', 'alone']\n",
    "cn = ['Sobrevivio', 'Murio']\n",
    "x_train = train[['age', 'sex', 'fare', 'class', 'embark_town', 'alone']]\n",
    "y_train = train['survived']\n",
    "x_test = test[['age', 'sex', 'fare', 'class', 'embark_town', 'alone']]\n",
    "y_test = test['survived']\n",
    "x_train.head(10)"
   ]
  },
  {
   "cell_type": "code",
   "execution_count": 11,
   "id": "c0dd549b",
   "metadata": {},
   "outputs": [
    {
     "name": "stdout",
     "output_type": "stream",
     "text": [
      "La precisión del árbol es de:  0.809\n"
     ]
    },
    {
     "data": {
      "text/html": [
       "<div>\n",
       "<style scoped>\n",
       "    .dataframe tbody tr th:only-of-type {\n",
       "        vertical-align: middle;\n",
       "    }\n",
       "\n",
       "    .dataframe tbody tr th {\n",
       "        vertical-align: top;\n",
       "    }\n",
       "\n",
       "    .dataframe thead th {\n",
       "        text-align: right;\n",
       "    }\n",
       "</style>\n",
       "<table border=\"1\" class=\"dataframe\">\n",
       "  <thead>\n",
       "    <tr style=\"text-align: right;\">\n",
       "      <th></th>\n",
       "      <th>survived</th>\n",
       "      <th>sex</th>\n",
       "      <th>age</th>\n",
       "      <th>fare</th>\n",
       "      <th>class</th>\n",
       "      <th>embark_town</th>\n",
       "      <th>alone</th>\n",
       "    </tr>\n",
       "  </thead>\n",
       "  <tbody>\n",
       "    <tr>\n",
       "      <th>248</th>\n",
       "      <td>1</td>\n",
       "      <td>1</td>\n",
       "      <td>37.0</td>\n",
       "      <td>52.5542</td>\n",
       "      <td>0</td>\n",
       "      <td>2</td>\n",
       "      <td>0</td>\n",
       "    </tr>\n",
       "    <tr>\n",
       "      <th>94</th>\n",
       "      <td>0</td>\n",
       "      <td>1</td>\n",
       "      <td>59.0</td>\n",
       "      <td>7.2500</td>\n",
       "      <td>2</td>\n",
       "      <td>2</td>\n",
       "      <td>1</td>\n",
       "    </tr>\n",
       "    <tr>\n",
       "      <th>278</th>\n",
       "      <td>0</td>\n",
       "      <td>1</td>\n",
       "      <td>7.0</td>\n",
       "      <td>29.1250</td>\n",
       "      <td>2</td>\n",
       "      <td>1</td>\n",
       "      <td>0</td>\n",
       "    </tr>\n",
       "    <tr>\n",
       "      <th>182</th>\n",
       "      <td>0</td>\n",
       "      <td>1</td>\n",
       "      <td>9.0</td>\n",
       "      <td>31.3875</td>\n",
       "      <td>2</td>\n",
       "      <td>2</td>\n",
       "      <td>0</td>\n",
       "    </tr>\n",
       "    <tr>\n",
       "      <th>211</th>\n",
       "      <td>1</td>\n",
       "      <td>0</td>\n",
       "      <td>35.0</td>\n",
       "      <td>21.0000</td>\n",
       "      <td>1</td>\n",
       "      <td>2</td>\n",
       "      <td>1</td>\n",
       "    </tr>\n",
       "  </tbody>\n",
       "</table>\n",
       "</div>"
      ],
      "text/plain": [
       "     survived  sex   age     fare  class  embark_town  alone\n",
       "248         1    1  37.0  52.5542      0            2      0\n",
       "94          0    1  59.0   7.2500      2            2      1\n",
       "278         0    1   7.0  29.1250      2            1      0\n",
       "182         0    1   9.0  31.3875      2            2      0\n",
       "211         1    0  35.0  21.0000      1            2      1"
      ]
     },
     "execution_count": 11,
     "metadata": {},
     "output_type": "execute_result"
    },
    {
     "data": {
      "image/png": "[encoded data removed]",
      "text/plain": [
       "<Figure size 720x576 with 1 Axes>"
      ]
     },
     "metadata": {
      "needs_background": "light"
     },
     "output_type": "display_data"
    }
   ],
   "source": [
    "# Sabiendo que la variable de salida es survived (sobrevivió 0=No, 1=Si) genere un árbol de decisión con una profundidad\n",
    "#de 5 niveles y random_state = 1. Muestre la precisión del árbol de decisión y brinde una interpretación indicando\n",
    "#cuál de las características utilizadas en el modelo es la de  mayor importancia.\n",
    "mod_dt = DecisionTreeClassifier(max_depth = 5, random_state = 1)\n",
    "mod_dt.fit(x_train, y_train)\n",
    "prediction = mod_dt.predict(x_test)\n",
    "print('La precisión del árbol es de: ', '{:.3f}'.format(metrics.accuracy_score(prediction, y_test)))\n",
    "plt.figure(figsize=(10, 8))\n",
    "plot_tree(mod_dt, feature_names = fn, class_names = cn, filled = True)\n",
    "test.head(5)"
   ]
  },
  {
   "cell_type": "markdown",
   "id": "61605d62",
   "metadata": {},
   "source": [
    "# Descripción\n",
    "## Dependiendo de sus atributos tendran mas posibilidades de sobrevivir"
   ]
  }
 ],
 "metadata": {
  "kernelspec": {
   "display_name": "Python 3 (ipykernel)",
   "language": "python",
   "name": "python3"
  },
  "language_info": {
   "codemirror_mode": {
    "name": "ipython",
    "version": 3
   },
   "file_extension": ".py",
   "mimetype": "text/x-python",
   "name": "python",
   "nbconvert_exporter": "python",
   "pygments_lexer": "ipython3",
   "version": "3.9.12"
  }
 },
 "nbformat": 4,
 "nbformat_minor": 5
}
